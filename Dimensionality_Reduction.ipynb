{
  "nbformat": 4,
  "nbformat_minor": 0,
  "metadata": {
    "colab": {
      "private_outputs": true,
      "provenance": []
    },
    "kernelspec": {
      "name": "python3",
      "display_name": "Python 3"
    },
    "language_info": {
      "name": "python"
    }
  },
  "cells": [
    {
      "cell_type": "code",
      "execution_count": null,
      "metadata": {
        "id": "gl2Y6JyPD9B1"
      },
      "outputs": [],
      "source": [
        "import requests\n",
        "from bs4 import BeautifulSoup\n",
        "import zipfile\n",
        "import io\n",
        "import pandas as pd\n",
        "from sklearn.cluster import KMeans\n",
        "from sklearn.model_selection import train_test_split\n",
        "from sklearn.preprocessing import LabelEncoder, StandardScaler\n",
        "from sklearn.linear_model import LogisticRegression\n",
        "from sklearn.pipeline import Pipeline\n",
        "from sklearn.metrics import accuracy_score, classification_report\n",
        "import numpy as np\n",
        "import time\n",
        "\n",
        "# Function to download and load dataset\n",
        "def load_data():\n",
        "    page_url = 'https://archive.ics.uci.edu/dataset/240/human+activity+recognition+using+smartphones'\n",
        "    page_response = requests.get(page_url)\n",
        "    if page_response.status_code == 200:\n",
        "        soup = BeautifulSoup(page_response.content, 'html.parser')\n",
        "        download_link = soup.select_one('a[href$=\".zip\"]')['href']\n",
        "        full_download_url = 'https://archive.ics.uci.edu' + download_link\n",
        "        response = requests.get(full_download_url)\n",
        "        if response.status_code == 200:\n",
        "            with zipfile.ZipFile(io.BytesIO(response.content)) as outer_zip:\n",
        "                inner_zip_name = 'UCI HAR Dataset.zip'\n",
        "                with outer_zip.open(inner_zip_name) as inner_zip_file:\n",
        "                    with zipfile.ZipFile(io.BytesIO(inner_zip_file.read())) as inner_zip:\n",
        "                        with inner_zip.open('UCI HAR Dataset/train/X_train.txt') as myfile:\n",
        "                            df = pd.read_csv(myfile, delim_whitespace=True, header=None)\n",
        "                        with inner_zip.open('UCI HAR Dataset/train/y_train.txt') as myfile_y:\n",
        "                            y = pd.read_csv(myfile_y, delim_whitespace=True, header=None)\n",
        "    else:\n",
        "        raise Exception(\"Failed to download or parse the dataset.\")\n",
        "    return df, y"
      ]
    },
    {
      "cell_type": "code",
      "source": [
        "import pandas as pd\n",
        "from sklearn.model_selection import train_test_split\n",
        "from sklearn.preprocessing import LabelEncoder, StandardScaler\n",
        "from sklearn.linear_model import LogisticRegression\n",
        "from sklearn.pipeline import Pipeline\n",
        "from sklearn.metrics import accuracy_score\n",
        "from sklearn.cluster import KMeans\n",
        "import numpy as np\n",
        "import time\n",
        "\n",
        "# Load dataset\n",
        "df, y = load_data()\n",
        "\n",
        "\n",
        "#TASK 1 - DO EDA and understand a little about the data.\n",
        "#Only important thing is to know that it has a lot of features that don't make sense, just a\n",
        "#bunch of readings from sensors.\n",
        "#We think many of these features are redundant or irrelevant, and we want to find good features.\n",
        "# Display basic information about the dataset\n",
        "import matplotlib.pyplot as plt\n",
        "import seaborn as sns\n",
        "\n",
        "# Display basic info about the dataset\n",
        "print(\"Feature dataset shape:\", df.shape)\n",
        "print(\"Target dataset shape:\", y.shape)\n",
        "\n",
        "# Display the first few rows of the feature dataset\n",
        "print(\"First few rows of features:\")\n",
        "print(df.head())\n",
        "\n",
        "# Display the first few rows of the target dataset\n",
        "print(\"First few rows of target:\")\n",
        "print(y.head())\n",
        "\n",
        "# Check for missing values\n",
        "print(\"\\nMissing values in the feature dataset:\\n\", df.isnull().sum().sum())\n",
        "print(\"Missing values in the target dataset:\\n\", y.isnull().sum().sum())\n",
        "\n",
        "# Summary statistics of the features\n",
        "print(\"\\nSummary statistics of features:\")\n",
        "print(df.describe())\n",
        "\n",
        "# Plot the target variable distribution\n",
        "plt.figure(figsize=(8, 6))\n",
        "sns.countplot(x=y[0], palette=\"viridis\")\n",
        "plt.title(\"Distribution of Target Variable\")\n",
        "plt.xlabel(\"Activity\")\n",
        "plt.ylabel(\"Count\")\n",
        "plt.show()\n",
        "\n",
        "# Check correlations among features (if feasible with a subset)\n",
        "correlation_matrix = df.corr()\n",
        "sns.heatmap(correlation_matrix, cmap='coolwarm', cbar=True)\n",
        "plt.title(\"Feature Correlation Heatmap (Sample)\")\n",
        "plt.show()"
      ],
      "metadata": {
        "id": "pMCCbI6MD_In"
      },
      "execution_count": null,
      "outputs": []
    },
    {
      "cell_type": "code",
      "source": [
        "# Task 2: Encode class labels\n",
        "# YOUR CODE HERE: Use LabelEncoder to encode class labels\n",
        "label_encoder = LabelEncoder()\n",
        "encoded_y = label_encoder.fit_transform(y[0]) # YOUR CODE HERE# Initialize LabelEncoder\n",
        "#encoded_y = label.encoder.fit_transform(y.values.ravel())\n",
        "print(encoded_y)"
      ],
      "metadata": {
        "id": "9rfVnv6MIx-v"
      },
      "execution_count": null,
      "outputs": []
    },
    {
      "cell_type": "code",
      "source": [
        "# Task 3: Scale the features using StandardScaler\n",
        "# YOUR CODE HERE: Apply StandardScaler to df\n",
        "\n",
        "scaler =  StandardScaler()# YOUR CODE HERE\n",
        "df_scaled =  scaler.fit_transform(df)# YOUR CODE HEREfrom sklearn.preprocessing import StandardScaler\n",
        "\n",
        "\n",
        "\n",
        "# Convert the scaled data back to a DataFrame (optional, for better readability)\n",
        "df_scaled = pd.DataFrame(df_scaled, columns=df.columns)\n"
      ],
      "metadata": {
        "id": "DqqlzO9FbSgM"
      },
      "execution_count": null,
      "outputs": []
    },
    {
      "cell_type": "code",
      "source": [
        "# Task 4: Split the data into training and testing sets\n",
        "# YOUR CODE HERE: Use train_test_split to split the data\n",
        "X_train_full, X_test_full, y_train, y_test = train_test_split(\n",
        "    df_scaled, encoded_y, test_size=0.2, random_state=42, stratify=encoded_y) # YOUR CODE HERE\n",
        "\n",
        "# Display the shapes of the resulting datasets\n",
        "print(\"Training features shape:\", X_train_full.shape)\n",
        "print(\"Testing features shape:\", X_test_full.shape)\n",
        "print(\"Training labels shape:\", y_train.shape)\n",
        "print(\"Testing labels shape:\", y_test.shape)\n"
      ],
      "metadata": {
        "id": "XKatX5lGc-05"
      },
      "execution_count": null,
      "outputs": []
    },
    {
      "cell_type": "code",
      "source": [
        "#TASK 5 - 1. Create a pipeline using Gaussian Naive Bayes\n",
        "#         2. Fit the model to the training data\n",
        "#         3. Predict values for test set\n",
        "#         4. Print accuracy score\n",
        "#from sklearn.pipeline import Pipeline\n",
        "from sklearn.naive_bayes import GaussianNB\n",
        "#from sklearn.metrics import accuracy_score\n",
        "\n",
        "# Step 1: Create a pipeline with Gaussian Naive Bayes\n",
        "pipeline = Pipeline([('classifier', GaussianNB())])\n",
        "\n",
        "# Step 2: Fit the model to the training data\n",
        "pipeline.fit(X_train_full, y_train)\n",
        "\n",
        "# Step 3: Predict values for the test set\n",
        "y_pred = pipeline.predict(X_test_full)\n",
        "\n",
        "# Step 4: Print the accuracy score\n",
        "accuracy = accuracy_score(y_test, y_pred)\n",
        "print(f\"Accuracy score: {accuracy:.4f}\")"
      ],
      "metadata": {
        "id": "w2dJQlZ0eVGi"
      },
      "execution_count": null,
      "outputs": []
    },
    {
      "cell_type": "code",
      "source": [
        "#TASK 6 - 1. Note the start time before defining the pipeline\n",
        "#         2. Note the end time and report the difference as the time taken by the model training and inference.\n",
        "import time\n",
        "\n",
        "# Step 1: Note the start time\n",
        "start_time = time.time()\n",
        "\n",
        "# Step 2: Create a pipeline with Gaussian Naive Bayes\n",
        "pipeline = Pipeline([('classifier', GaussianNB())])\n",
        "\n",
        "# Step 3: Fit the model to the training data\n",
        "pipeline.fit(X_train_full, y_train)\n",
        "\n",
        "# Step 4: Predict values for the test set\n",
        "y_pred = pipeline.predict(X_test_full)\n",
        "\n",
        "# Step 5: Note the end time\n",
        "end_time = time.time()\n",
        "\n",
        "# Step 6: Calculate and print the time taken\n",
        "time_taken = end_time - start_time\n",
        "print(f\"Time taken for model training and inference: {time_taken:.4f} seconds\")\n",
        "\n",
        "# Step 7: Print the accuracy score\n",
        "accuracy = accuracy_score(y_test, y_pred)\n",
        "print(f\"Accuracy score: {accuracy:.2f}\")\n",
        "\n",
        "\n"
      ],
      "metadata": {
        "id": "-BYvUvIze9-l"
      },
      "execution_count": null,
      "outputs": []
    },
    {
      "cell_type": "code",
      "source": [
        "# TASK 7 - K-Means for dimensionality reduction\n",
        "n_clusters = 5\n",
        "kmeans = KMeans(n_clusters=n_clusters, random_state=42)\n",
        "kmeans.fit(df_scaled.T)  # Transpose to treat features as data points\n",
        "#selected_features_indices = np.unique(np.argmin(kmeans.transform(df_scaled.T), axis=1))\n",
        "selected_features_indices = [np.random.choice(np.where(kmeans.labels_ == i)[0]) for i in range(n_clusters)]\n",
        "selected_features =  df.iloc[:, selected_features_indices]\n",
        "print(selected_features)\n",
        "\n",
        "\n",
        "\n",
        ""
      ],
      "metadata": {
        "id": "Jfwl8kjTh1Zw"
      },
      "execution_count": null,
      "outputs": []
    },
    {
      "cell_type": "code",
      "source": [
        "from sklearn.naive_bayes import GaussianNB\n",
        "# Split the data with selected features\n",
        "X_train, X_test, y_train, y_test = train_test_split(selected_features, encoded_y, test_size=0.2, random_state=42)\n",
        "\n",
        "\n",
        "#Train Gaussian Naive Bayes on all features and measure time\n",
        "X_train_full, X_test_full, y_train, y_test = train_test_split(df_scaled, encoded_y, test_size=0.2, random_state=42, stratify=encoded_y)\n",
        "start_time = time.time()\n",
        "classifier_pipeline = Pipeline([('classifier', GaussianNB())])\n",
        "classifier_pipeline.fit(X_train_full, y_train)\n",
        "y_pred = classifier_pipeline.predict(X_test_full)\n",
        "end_time = time.time()\n",
        "full_features_time = end_time - start_time\n",
        "accuracy_full = accuracy_score(y_test, y_pred)\n",
        "\n",
        "# Train Gaussian Naive Bayes on selected features and measure time\n",
        "start_time = time.time()\n",
        "classifier_pipeline = Pipeline([('classifier', GaussianNB())])\n",
        "classifier_pipeline.fit(X_train, y_train)\n",
        "y_pred = classifier_pipeline.predict(X_test)\n",
        "end_time = time.time()\n",
        "selected_features_time = end_time - start_time\n",
        "\n",
        "# Evaluate accuracy\n",
        "accuracy_selected_features = accuracy_score(y_test, y_pred)\n",
        "\n",
        "# Print results\n",
        "print(f\"Time taken with all features: {full_features_time:.4f} seconds\")\n",
        "print(f\"Accuracy with all features: {accuracy_full:.4f}\")\n",
        "print(f\"Time taken with selected features: {selected_features_time:.4f} seconds\")\n",
        "print(f\"Accuracy with selected features: {accuracy_selected_features:.4f}\")"
      ],
      "metadata": {
        "id": "gmbSlqjYxagl"
      },
      "execution_count": null,
      "outputs": []
    }
  ]
}